{
 "cells": [
  {
   "cell_type": "code",
   "execution_count": 1,
   "metadata": {
    "nbpresent": {
     "id": "b6a80cac-77e2-4f4e-9abe-ef0c8c307643"
    }
   },
   "outputs": [],
   "source": [
    "# problem imports\n",
    "from ne.benchmark.mop1 import MOP1\n",
    "from ne.benchmark.saddle import Saddle\n",
    "\n",
    "# alg imports\n",
    "from ne.nash_eq_algs.bayes_ne import BayesNE\n",
    "from ne.nash_eq_algs.gpgame import GPGame\n",
    "from ne.nash_eq_algs.stoch_search_methods import iterated_best_response, hier_sa\n",
    "\n",
    "# util imports\n",
    "from ne.utils.plots import plot_decision_space, plot_regret_trace\n",
    "\n",
    "# filter numerical convergence warnings\n",
    "import warnings\n",
    "warnings.filterwarnings('ignore')\n",
    "import numpy as np \n",
    "np.random.seed(1)"
   ]
  },
  {
   "cell_type": "markdown",
   "metadata": {
    "nbpresent": {
     "id": "e21b88ea-8ae4-40b1-84d5-03a724b1b7ff"
    }
   },
   "source": [
    "#### Problem 1: SADDLE"
   ]
  },
  {
   "cell_type": "code",
   "execution_count": 2,
   "metadata": {
    "nbpresent": {
     "id": "f8f3fb45-1c44-42b6-b47c-66f1ed7f2033"
    }
   },
   "outputs": [],
   "source": [
    "dim = 2\n",
    "x_opt = 0.5\n",
    "is_noise = False\n",
    "problem = Saddle(is_minimize=False, is_noise=is_noise, dim=dim, x_opt=x_opt)"
   ]
  },
  {
   "cell_type": "markdown",
   "metadata": {},
   "source": [
    "###### BN-Exact"
   ]
  },
  {
   "cell_type": "code",
   "execution_count": 3,
   "metadata": {
    "nbpresent": {
     "id": "2af91c88-b229-4952-ab83-8da7e1485534"
    }
   },
   "outputs": [],
   "source": [
    "bn_exact = BayesNE(problem.evaluate, [dim // 2, dim // 2], is_approx=False, epsilon=0.15)"
   ]
  },
  {
   "cell_type": "code",
   "execution_count": 4,
   "metadata": {
    "nbpresent": {
     "id": "7c8bb730-6f86-480a-aa4d-776bd44fcf6f"
    }
   },
   "outputs": [
    {
     "data": {
      "image/png": "[encoded data removed]",
      "text/plain": [
       "<Figure size 432x432 with 3 Axes>"
      ]
     },
     "metadata": {},
     "output_type": "display_data"
    }
   ],
   "source": [
    "# show the initial design\n",
    "plot_decision_space(bn_exact.pts, actual_ne=problem.get_x_ne(), title=None)"
   ]
  },
  {
   "cell_type": "code",
   "execution_count": null,
   "metadata": {
    "nbpresent": {
     "id": "beaf242a-9896-47e0-a58a-e384161e8d91"
    }
   },
   "outputs": [],
   "source": [
    "# Search\n",
    "bn_exact.run()"
   ]
  },
  {
   "cell_type": "code",
   "execution_count": null,
   "metadata": {},
   "outputs": [],
   "source": [
    "# regression erros on the sampled points\n",
    "bn_exact.errs"
   ]
  },
  {
   "cell_type": "code",
   "execution_count": null,
   "metadata": {
    "nbpresent": {
     "id": "710aecc5-274e-4385-8aa2-99a8a806d6b3"
    }
   },
   "outputs": [],
   "source": [
    "# show the posteriorq\n",
    "plot_decision_space(problem.get_xs(), actual_ne=problem.get_x_ne(), title=None)"
   ]
  },
  {
   "cell_type": "code",
   "execution_count": null,
   "metadata": {},
   "outputs": [],
   "source": [
    "# compute regret trace\n",
    "run = 1\n",
    "alg_variant = 'BN-exact'\n",
    "actual_fevals = problem.get_num_evals()\n",
    "fevals = actual_fevals\n",
    "best_regret = np.inf\n",
    "regret_trace = []\n",
    "for xs in bn_exact.pts[:fevals]:\n",
    "    best_regret = min(best_regret, problem.ne_regret(xs))\n",
    "    regret_trace.append(best_regret)\n",
    "\n",
    "\n",
    "stats = {\n",
    "    'fevals': fevals,\n",
    "    'run': run,\n",
    "    'alg': alg_variant,\n",
    "    'dim': dim,\n",
    "    'actual_fevals': actual_fevals,\n",
    "    'regret_trace': regret_trace\n",
    "}\n",
    "print(stats)\n",
    "plot_regret_trace([stats], is_file=False)"
   ]
  },
  {
   "cell_type": "code",
   "execution_count": null,
   "metadata": {},
   "outputs": [],
   "source": [
    "# get a suggested NE (experimental): \n",
    "best_ne_br = bn_exact.suggest_approx_ne(best_crit='br')\n",
    "best_ne_abr =  bn_exact.suggest_approx_ne(best_crit='abr')\n",
    "best_ne_std = bn_exact.suggest_approx_ne(best_crit='std')"
   ]
  },
  {
   "cell_type": "code",
   "execution_count": null,
   "metadata": {},
   "outputs": [],
   "source": [
    "pts = [best_ne_br, best_ne_abr, best_ne_std]\n",
    "names = ['br', 'abr', 'std']\n",
    "print(\"NE: {}, Approx Regret: {}\".format(\n",
    "    problem.get_x_ne(), \n",
    "    bn_exact.approx_max_regret(problem.get_x_ne())\n",
    "    ))\n",
    "print(\"After {} function evaluations\".format(problem.get_num_evals()))\n",
    "\n",
    "for pt, name in zip(pts, names):\n",
    "    print(\"=\" * 20)\n",
    "    print(\"{}-best pt: {}, Actual regret: {}\".format(name, pt, problem.ne_regret(pt)))\n",
    "    print(\"{}-best pt: {}, Approx regret: {}\".format(name, pt, bn_exact.approx_max_regret(pt)))\n",
    "    print(\"player 1 - {}-best pt regret: {}, NE regret : {}\".format(\n",
    "        name,\n",
    "        bn_exact.approx_regret(pt, 0),\n",
    "        bn_exact.approx_regret(problem.get_x_ne(), 0)\n",
    "    ))\n",
    "    print(\"player 2 - {}-best pt regret: {}, NE regret : {}\".format(\n",
    "        name,\n",
    "        bn_exact.approx_regret(pt, 1),\n",
    "        bn_exact.approx_regret(problem.get_x_ne(), 1)\n",
    "    ))\n",
    "# This clears sampled (queried) points which comes handy when we would like\n",
    "# to sample points sampled by the algorithm or by the `problem.ne_regret` method\n",
    "_ = problem.get_xs()"
   ]
  },
  {
   "cell_type": "code",
   "execution_count": null,
   "metadata": {},
   "outputs": [],
   "source": [
    "# view the current belief for player 1\n",
    "bn_exact.plot_player_posterior(p=0, actual_ne=problem.get_x_ne(), title=None)"
   ]
  },
  {
   "cell_type": "code",
   "execution_count": null,
   "metadata": {},
   "outputs": [],
   "source": [
    "# view the current belief for player 2\n",
    "bn_exact.plot_player_posterior(p=1, actual_ne=problem.get_x_ne(), title=None)"
   ]
  },
  {
   "cell_type": "markdown",
   "metadata": {},
   "source": [
    "##### BN-Approx"
   ]
  },
  {
   "cell_type": "code",
   "execution_count": null,
   "metadata": {
    "scrolled": false
   },
   "outputs": [],
   "source": [
    "bn_approx = BayesNE(problem.evaluate, [dim // 2, dim // 2], is_approx=True)\n",
    "# Search\n",
    "bn_approx.run()\n",
    "# show the posteriorq\n",
    "plot_decision_space(problem.get_xs(), actual_ne=problem.get_x_ne(), title=None)"
   ]
  },
  {
   "cell_type": "code",
   "execution_count": null,
   "metadata": {},
   "outputs": [],
   "source": [
    "# The following algorithms assume minimizing the objective functions\n",
    "problem = Saddle(is_minimize=True, is_noise=is_noise, dim=dim, x_opt=x_opt)"
   ]
  },
  {
   "cell_type": "markdown",
   "metadata": {},
   "source": [
    "##### GPGame"
   ]
  },
  {
   "cell_type": "code",
   "execution_count": null,
   "metadata": {},
   "outputs": [],
   "source": [
    "gpg = GPGame(fct=problem.evaluate, var_assignment=[1,2], nobj=2)\n",
    "_, pt, _ = gpg.run()\n",
    "plot_decision_space(problem.get_xs(), actual_ne=problem.get_x_ne(), title=None)"
   ]
  },
  {
   "cell_type": "code",
   "execution_count": null,
   "metadata": {},
   "outputs": [],
   "source": [
    "pt = [0.5017106571580253, 0.5017106571580253] # from Out[16]\n",
    "print(\"GPG-best pt: {}, Actual regret: {}\".format(pt, problem.ne_regret(pt)))\n",
    "# clear sampled points\n",
    "_ = problem.get_xs()"
   ]
  },
  {
   "cell_type": "markdown",
   "metadata": {},
   "source": [
    "##### StochSearch"
   ]
  },
  {
   "cell_type": "code",
   "execution_count": null,
   "metadata": {},
   "outputs": [],
   "source": [
    "# Iterated Best respone\n",
    "pt = iterated_best_response(problem.evaluate, n_xs=[1, 1], max_fevals=500)\n",
    "plot_decision_space(problem.get_xs(), actual_ne=problem.get_x_ne(), title=None)\n",
    "print(\"Iterated BR-best pt: {}, Actual regret: {}\".format(pt, problem.ne_regret(pt)))"
   ]
  },
  {
   "cell_type": "code",
   "execution_count": null,
   "metadata": {},
   "outputs": [],
   "source": [
    "# Hierarchical SA\n",
    "pt = hier_sa(problem.evaluate, n_xs=[1, 1], max_fevals=100)\n",
    "plot_decision_space(problem.get_xs(), actual_ne=problem.get_x_ne(), title=None)\n",
    "print(\"Hier SA-best pt: {}, Actual regret: {}\".format(pt, problem.ne_regret(pt)))"
   ]
  },
  {
   "cell_type": "markdown",
   "metadata": {},
   "source": [
    "#### Problem 2: MOP"
   ]
  },
  {
   "cell_type": "code",
   "execution_count": null,
   "metadata": {},
   "outputs": [],
   "source": [
    "problem = MOP1(is_minimize=False, is_noise=False)\n",
    "# note: since the  MOP's domain is not [0,1]^D, and the fact that BayesNE operates in [0,1]^D.\n",
    "# we set the flag is_unit in the `problem.ne_regret` when computing the regret of a point in [0,1]^D"
   ]
  },
  {
   "cell_type": "code",
   "execution_count": null,
   "metadata": {},
   "outputs": [],
   "source": [
    "bn_approx = BayesNE(problem.evaluate, [1, 1], is_approx=True, max_fevals=40, epsilon=0.05)"
   ]
  },
  {
   "cell_type": "code",
   "execution_count": null,
   "metadata": {
    "scrolled": true
   },
   "outputs": [],
   "source": [
    "# Search\n",
    "bn_approx.run()\n",
    "# show the posteriorq\n",
    "plot_decision_space(problem.get_xs(), actual_ne=problem.get_x_ne(), title=None)"
   ]
  },
  {
   "cell_type": "code",
   "execution_count": null,
   "metadata": {},
   "outputs": [],
   "source": [
    "# compute regret trace\n",
    "run = 1\n",
    "dim = 2\n",
    "alg_variant = 'BN-approx'\n",
    "actual_fevals = len(bn_approx.pts)\n",
    "fevals = actual_fevals\n",
    "best_regret = np.inf\n",
    "regret_trace = []\n",
    "for xs in bn_approx.pts[:fevals]:\n",
    "    best_regret = min(best_regret, problem.ne_regret(xs, is_unit=True)) # is_unit denote that xs is in the space[0,1]\n",
    "    regret_trace.append(best_regret)\n",
    "\n",
    "\n",
    "stats = {\n",
    "    'fevals': fevals,\n",
    "    'run': run,\n",
    "    'alg': alg_variant,\n",
    "    'dim': dim,\n",
    "    'actual_fevals': actual_fevals,\n",
    "    'regret_trace': regret_trace\n",
    "}\n",
    "print(stats)\n",
    "plot_regret_trace([stats], is_file=False)"
   ]
  },
  {
   "cell_type": "code",
   "execution_count": null,
   "metadata": {},
   "outputs": [],
   "source": [
    "# get a suggested NE (experimental):\n",
    "best_ne_br = bn_approx.suggest_approx_ne(best_crit='br')\n",
    "best_ne_abr =  bn_approx.suggest_approx_ne(best_crit='abr')\n",
    "best_ne_std = bn_approx.suggest_approx_ne(best_crit='std')"
   ]
  },
  {
   "cell_type": "code",
   "execution_count": null,
   "metadata": {},
   "outputs": [],
   "source": [
    "pts = [best_ne_br, best_ne_abr, best_ne_std]\n",
    "names = ['br', 'abr', 'std']\n",
    "print(\"NE: {}, Approx Regret: {}\".format(\n",
    "    problem.get_x_ne(), \n",
    "    bn_approx.approx_max_regret(problem.get_x_ne())\n",
    "    ))\n",
    "print(\"After {} function evaluations\".format(problem.get_num_evals()))\n",
    "\n",
    "for pt, name in zip(pts, names):\n",
    "    print(\"=\" * 20)\n",
    "    print(\"{}-best pt: {}, Actual regret: {}\".format(name, pt, problem.ne_regret(pt, is_unit=True)))\n",
    "    print(\"{}-best pt: {}, Approx regret: {}\".format(name, pt, bn_approx.approx_max_regret(pt)))\n",
    "    print(\"player 1 - {}-best pt regret: {}, NE regret : {}\".format(\n",
    "        name,\n",
    "        bn_approx.approx_regret(pt, 0),\n",
    "        bn_approx.approx_regret(problem.get_x_ne(), 0)\n",
    "    ))\n",
    "    print(\"player 2 - {}-best pt regret: {}, NE regret : {}\".format(\n",
    "        name,\n",
    "        bn_approx.approx_regret(pt, 1),\n",
    "        bn_approx.approx_regret(problem.get_x_ne(), 1)\n",
    "    ))"
   ]
  },
  {
   "cell_type": "code",
   "execution_count": null,
   "metadata": {},
   "outputs": [],
   "source": [
    "closest_sampled_pt = bn_approx.pts[np.argmin(np.sum((bn_approx.pts - problem.get_x_ne())**2, axis=1)),:]\n",
    "print(\"BN-closest (to actual NE) sampled pt: {}, Actual regret: {}\".format(closest_sampled_pt, problem.ne_regret(closest_sampled_pt, is_unit=True)))"
   ]
  },
  {
   "cell_type": "code",
   "execution_count": null,
   "metadata": {},
   "outputs": [],
   "source": []
  }
 ],
 "metadata": {
  "kernelspec": {
   "display_name": "Python [default]",
   "language": "python",
   "name": "python2"
  },
  "language_info": {
   "codemirror_mode": {
    "name": "ipython",
    "version": 2
   },
   "file_extension": ".py",
   "mimetype": "text/x-python",
   "name": "python",
   "nbconvert_exporter": "python",
   "pygments_lexer": "ipython2",
   "version": "2.7.15"
  },
  "latex_envs": {
   "LaTeX_envs_menu_present": true,
   "autocomplete": true,
   "bibliofile": "biblio.bib",
   "cite_by": "apalike",
   "current_citInitial": 1,
   "eqLabelWithNumbers": true,
   "eqNumInitial": 1,
   "hotkeys": {
    "equation": "Ctrl-E",
    "itemize": "Ctrl-I"
   },
   "labels_anchors": false,
   "latex_user_defs": false,
   "report_style_numbering": false,
   "user_envs_cfg": false
  },
  "nbpresent": {
   "slides": {},
   "themes": {
    "default": "f86d3af8-1915-4073-8239-4a6b2868612b",
    "theme": {
     "e9e562dc-0b2b-4c54-b05e-01f081c27518": {
      "backgrounds": {
       "dc7afa04-bf90-40b1-82a5-726e3cff5267": {
        "background-color": "31af15d2-7e15-44c5-ab5e-e04b16a89eff",
        "id": "dc7afa04-bf90-40b1-82a5-726e3cff5267"
       }
      },
      "id": "e9e562dc-0b2b-4c54-b05e-01f081c27518",
      "palette": {
       "19cc588f-0593-49c9-9f4b-e4d7cc113b1c": {
        "id": "19cc588f-0593-49c9-9f4b-e4d7cc113b1c",
        "rgb": [
         252,
         252,
         252
        ]
       },
       "31af15d2-7e15-44c5-ab5e-e04b16a89eff": {
        "id": "31af15d2-7e15-44c5-ab5e-e04b16a89eff",
        "rgb": [
         68,
         68,
         68
        ]
       },
       "50f92c45-a630-455b-aec3-788680ec7410": {
        "id": "50f92c45-a630-455b-aec3-788680ec7410",
        "rgb": [
         197,
         226,
         245
        ]
       },
       "c5cc3653-2ee1-402a-aba2-7caae1da4f6c": {
        "id": "c5cc3653-2ee1-402a-aba2-7caae1da4f6c",
        "rgb": [
         43,
         126,
         184
        ]
       },
       "efa7f048-9acb-414c-8b04-a26811511a21": {
        "id": "efa7f048-9acb-414c-8b04-a26811511a21",
        "rgb": [
         25.118061674008803,
         73.60176211453744,
         107.4819383259912
        ]
       }
      },
      "rules": {
       "a": {
        "color": "19cc588f-0593-49c9-9f4b-e4d7cc113b1c"
       },
       "blockquote": {
        "color": "50f92c45-a630-455b-aec3-788680ec7410",
        "font-size": 3
       },
       "code": {
        "font-family": "Anonymous Pro"
       },
       "h1": {
        "color": "19cc588f-0593-49c9-9f4b-e4d7cc113b1c",
        "font-family": "Merriweather",
        "font-size": 8
       },
       "h2": {
        "color": "19cc588f-0593-49c9-9f4b-e4d7cc113b1c",
        "font-family": "Merriweather",
        "font-size": 6
       },
       "h3": {
        "color": "50f92c45-a630-455b-aec3-788680ec7410",
        "font-family": "Lato",
        "font-size": 5.5
       },
       "h4": {
        "color": "c5cc3653-2ee1-402a-aba2-7caae1da4f6c",
        "font-family": "Lato",
        "font-size": 5
       },
       "h5": {
        "font-family": "Lato"
       },
       "h6": {
        "font-family": "Lato"
       },
       "h7": {
        "font-family": "Lato"
       },
       "li": {
        "color": "50f92c45-a630-455b-aec3-788680ec7410",
        "font-size": 3.25
       },
       "pre": {
        "font-family": "Anonymous Pro",
        "font-size": 4
       }
      },
      "text-base": {
       "color": "19cc588f-0593-49c9-9f4b-e4d7cc113b1c",
       "font-family": "Lato",
       "font-size": 4
      }
     },
     "f86d3af8-1915-4073-8239-4a6b2868612b": {
      "backgrounds": {
       "dc7afa04-bf90-40b1-82a5-726e3cff5267": {
        "background-color": "31af15d2-7e15-44c5-ab5e-e04b16a89eff",
        "id": "dc7afa04-bf90-40b1-82a5-726e3cff5267"
       }
      },
      "id": "f86d3af8-1915-4073-8239-4a6b2868612b",
      "palette": {
       "19cc588f-0593-49c9-9f4b-e4d7cc113b1c": {
        "id": "19cc588f-0593-49c9-9f4b-e4d7cc113b1c",
        "rgb": [
         252,
         252,
         252
        ]
       },
       "31af15d2-7e15-44c5-ab5e-e04b16a89eff": {
        "id": "31af15d2-7e15-44c5-ab5e-e04b16a89eff",
        "rgb": [
         68,
         68,
         68
        ]
       },
       "50f92c45-a630-455b-aec3-788680ec7410": {
        "id": "50f92c45-a630-455b-aec3-788680ec7410",
        "rgb": [
         197,
         226,
         245
        ]
       },
       "c5cc3653-2ee1-402a-aba2-7caae1da4f6c": {
        "id": "c5cc3653-2ee1-402a-aba2-7caae1da4f6c",
        "rgb": [
         43,
         126,
         184
        ]
       },
       "efa7f048-9acb-414c-8b04-a26811511a21": {
        "id": "efa7f048-9acb-414c-8b04-a26811511a21",
        "rgb": [
         25.118061674008803,
         73.60176211453744,
         107.4819383259912
        ]
       }
      },
      "rules": {
       "a": {
        "color": "19cc588f-0593-49c9-9f4b-e4d7cc113b1c"
       },
       "blockquote": {
        "color": "50f92c45-a630-455b-aec3-788680ec7410",
        "font-size": 3
       },
       "code": {
        "font-family": "Anonymous Pro"
       },
       "h1": {
        "color": "19cc588f-0593-49c9-9f4b-e4d7cc113b1c",
        "font-family": "Merriweather",
        "font-size": 8
       },
       "h2": {
        "color": "19cc588f-0593-49c9-9f4b-e4d7cc113b1c",
        "font-family": "Merriweather",
        "font-size": 6
       },
       "h3": {
        "color": "50f92c45-a630-455b-aec3-788680ec7410",
        "font-family": "Lato",
        "font-size": 5.5
       },
       "h4": {
        "color": "c5cc3653-2ee1-402a-aba2-7caae1da4f6c",
        "font-family": "Lato",
        "font-size": 5
       },
       "h5": {
        "font-family": "Lato"
       },
       "h6": {
        "font-family": "Lato"
       },
       "h7": {
        "font-family": "Lato"
       },
       "li": {
        "color": "50f92c45-a630-455b-aec3-788680ec7410",
        "font-size": 3.25
       },
       "pre": {
        "font-family": "Anonymous Pro",
        "font-size": 4
       }
      },
      "text-base": {
       "color": "19cc588f-0593-49c9-9f4b-e4d7cc113b1c",
       "font-family": "Lato",
       "font-size": 4
      }
     }
    }
   }
  }
 },
 "nbformat": 4,
 "nbformat_minor": 2
}
